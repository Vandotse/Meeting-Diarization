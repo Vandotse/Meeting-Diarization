{
 "cells": [
  {
   "cell_type": "markdown",
   "id": "97975921",
   "metadata": {},
   "source": [
    "Todo\n",
    "- pyaudio mic input saved to mp3\n",
    "- openai whisper to transcribe"
   ]
  },
  {
   "cell_type": "code",
   "execution_count": null,
   "id": "f91cd212",
   "metadata": {},
   "outputs": [],
   "source": []
  }
 ],
 "metadata": {
  "language_info": {
   "name": "python"
  }
 },
 "nbformat": 4,
 "nbformat_minor": 5
}
